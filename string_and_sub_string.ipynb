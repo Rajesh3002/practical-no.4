{
  "nbformat": 4,
  "nbformat_minor": 0,
  "metadata": {
    "colab": {
      "name": "string and sub-string.ipynb",
      "provenance": [],
      "toc_visible": true
    },
    "kernelspec": {
      "name": "python3",
      "display_name": "Python 3"
    },
    "language_info": {
      "name": "python"
    }
  },
  "cells": [
    {
      "cell_type": "markdown",
      "source": [
        "Write a program to create, concatenate and print a string and accessing sub-string from a given string"
      ],
      "metadata": {
        "id": "rbICjUrDsCnp"
      }
    },
    {
      "cell_type": "code",
      "source": [
        "s1=input(\"Enter first String : \");\n",
        "s2=input(\"Enter second String : \");\n",
        "print(\"First string is : \",s1);\n",
        "print(\"Second string is : \",s2);\n",
        "print(\"concatenations of two strings :\",s1+s2);\n",
        "print(\"Substring of given string :\",s1[1:4]);"
      ],
      "metadata": {
        "id": "c22wFPw4sDdZ",
        "colab": {
          "base_uri": "https://localhost:8080/"
        },
        "outputId": "dd810424-31cf-42ac-c5fc-9b9b932358cf"
      },
      "execution_count": 7,
      "outputs": [
        {
          "output_type": "stream",
          "name": "stdout",
          "text": [
            "Enter first String : There's always a way to get ahead \n",
            "Enter second String : if you're determined and creative \n",
            "First string is :  There's always a way to get ahead \n",
            "Second string is :  if you're determined and creative \n",
            "concatenations of two strings : There's always a way to get ahead if you're determined and creative \n",
            "Substring of given string : here's a\n"
          ]
        }
      ]
    }
  ]
}